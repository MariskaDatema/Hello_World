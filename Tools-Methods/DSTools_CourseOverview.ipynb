{
 "cells": [
  {
   "cell_type": "markdown",
   "metadata": {},
   "source": [
    "**This notebook** was created by Mariska Datema as final assigment for the Tools for Data Science course by IBM on Coursera. This notebook includes an overview of what was covered in the course."
   ]
  },
  {
   "cell_type": "markdown",
   "metadata": {
    "collapsed": true
   },
   "source": [
    "# Tools for Data Science"
   ]
  },
  {
   "cell_type": "markdown",
   "metadata": {},
   "source": [
    "_Issued by IBM. Powered by <a href=\"https://www.coursera.org/learn/open-source-tools-for-data-science\" target=\"_blank\">Coursera</a>_"
   ]
  },
  {
   "cell_type": "markdown",
   "metadata": {},
   "source": [
    "This course is part of the <a href=\"https://www.coursera.org/professional-certificates/ibm-data-science\" target=\"_blank\"> IBM Data Science Professional Certificate</a>."
   ]
  },
  {
   "cell_type": "markdown",
   "metadata": {},
   "source": [
    "## About this Course"
   ]
  },
  {
   "cell_type": "markdown",
   "metadata": {},
   "source": [
    "<div><img src=\"https://images.youracclaim.com/size/680x680/images/60cf69ce-6129-425d-9a42-7732fa07da1e/Tools_for_Data_Science_Foundational.png\" width=\"200\" align=\"left\"></div>\n",
    "\n",
    "<div align=\"left\" align=\"top\"><a href=\"https://www.youracclaim.com/org/ibm/badge/tools-for-data-science\" target=\"_blank\"> YourAcclaim</a><br>\n",
    "This badge earner has demonstrated their skill and understanding of how popular data science tools such as the Jupyter Notebook, RStudio, Zeppelin and Watson Studio are used, as well as the advantages and disadvantages of each tool.\n",
    "</div>"
   ]
  },
  {
   "cell_type": "markdown",
   "metadata": {},
   "source": [
    "What are some of the most popular data science tools, how do you use them, and what are their features? In this course, you'll learn about Jupyter Notebooks, RStudio IDE, Apache Zeppelin and Data Science Experience. You will learn about what each tool is used for, what programming languages they can execute, their features and limitations. With the tools hosted in the cloud on Cognitive Class Labs, you will be able to test each tool and follow instructions to run simple code in Python, R or Scala. To end the course, you will create a final project with a Jupyter Notebook on IBM Data Science Experience and demonstrate your proficiency preparing a notebook, writing Markdown, and sharing your work with your peers."
   ]
  },
  {
   "cell_type": "markdown",
   "metadata": {},
   "source": [
    "#### Languages\n",
    "* Python \n",
    "* R \n",
    "* SQL\n",
    "\n",
    "#### Tools\n",
    "* Jupyter Notebooks (perform hands-on labs to create Jupyter Notebooks with code and Markdown) \n",
    "* RStudio IDE (create and run R scripts in RStudio)\n",
    "* Watson Studio (create projects and share notebooks on Watson Studio)\n",
    "* GitHub (repositories, branching, merging, pull requests on GitHub and via command line)"
   ]
  },
  {
   "cell_type": "markdown",
   "metadata": {},
   "source": [
    "## Syllabus"
   ]
  },
  {
   "cell_type": "markdown",
   "metadata": {},
   "source": [
    "### 1. Data Scientist's Toolkit\n",
    "\n",
    "This week, you will get an overview of the programming languages commonly used, including Python, R, Scala, and SQL. You’ll be introduced to the open source and commercial data science tools available. You’ll also learn about the packages, APIs, data sets and models frequently used by data scientists.\n",
    "\n",
    "#### Key Concepts\n",
    "* Explore the languages, tools, and data used by data scientists.\n",
    "* Give examples of popular tools used by data scientists.\n",
    "* Discover IBM tools focused on data science.\n",
    "\n",
    "#### Contents\n",
    "* Languages: Python, R, SQL\n",
    "* Overview of commercial, open source and cloud based tools for Data Science.\n",
    "* Libraries, APIs, Data Asset Exchange, Machine Learning Models, Model Asset Exchange\n",
    "\n",
    "#### Lab: Getting Started with the Model Asset Exchange and the Data Asset Exchange\n",
    "\n",
    "In this lab you will explore the Model Asset Exchange (MAX) and the Data Asset Exchange (DAX), which are two open source Data Science resources on IBM Developer.\n",
    "\n",
    "Upon completion of part 1 of this lab (“Explore deep learning models”) you will be able to:\n",
    "\n",
    "* Find ready-to-use deep learning models on the Model Asset Exchange\n",
    "* Locate resources that guide you through deployment in a local or cloud environment\n",
    "* Explore the deep learning model-serving microservice API using your web browser\n",
    "* Articulate how developers can consume those microservices\n",
    "\n",
    "Upon completion of part 2 (“Explore deep learning data sets”) you will know:\n",
    "\n",
    "* Where to find open data sets on IBM Developer\n",
    "* How to explore those data sets"
   ]
  },
  {
   "cell_type": "markdown",
   "metadata": {},
   "source": [
    "### 2. Open Source Tools\n",
    "\n",
    "This week, you will learn about three popular tools used in data science: GitHub, Jupyter Notebooks, and RStudio IDE. You will become familiar with the features of each tool, and what makes these tools so popular among data scientists today.\n",
    "\n",
    "#### Key Concepts\n",
    "* Explain how to use GitHub to create and manage source code for data science projects.\n",
    "* Describe the features of Jupyter Notebook that make it popular for data science projects.\n",
    "* Describe the features of RStudio IDE that make it popular for data science projects.\n",
    "\n",
    "#### Contents\n",
    "* Git/GitHub (repositories, branching, merging, pull requests on GitHub and via command line)\n",
    "* Jupyter Notebook and JupyterLab\n",
    "* RStudio IDE\n",
    "\n",
    "#### Lab: Creating an Interactive Map in R\n",
    "Create an interactive map using two libraries. Shiny, which is an amazing library for prototyping interactive user interfaces in R and Leaflet which allows us to use OpenStreetMap data to create an interactive map. Shiny will use Leaflet as one of it’s UI components (like any other UI component like button, slider or text field)."
   ]
  },
  {
   "cell_type": "markdown",
   "metadata": {},
   "source": [
    "### 3. IBM Tools for Data Science \n",
    "\n",
    "This week, you will learn about an enterprise-ready data science platform by IBM, called Watson Studio. You'll learn about some of the features and capabilities of what data scientists use in the industry. You’ll also learn about other IBM tools used to support data science projects, such as IBM Watson Knowledge Catalog, Data Refinery, and the SPSS Modeler.\n",
    "\n",
    "#### Key Concepts\n",
    "* Explain how IBM Watson Studio can be used by data scientists.\n",
    "* Describe other IBM data science tools.\n",
    "\n",
    "#### Contents\n",
    "* Watson Studio (create project, Jupyter notebook, link GitHub)\n",
    "* IBM Watson Knowledge Catalog\n",
    "* Data refinery\n",
    "* SPSS Modeler Flows\n",
    "* SPSS Statistics\n",
    "* Model Deployment\n",
    "* Auto AI\n",
    "* Watson Open Scale"
   ]
  },
  {
   "cell_type": "markdown",
   "metadata": {},
   "source": [
    "### 4. Final Assignment: Create and Share Your Jupyter Notebook\n",
    "\n",
    "This week, you will demonstrate your skills by creating and configuring a Jupyter Notebook. As part of your grade for this course, you will share your Jupyter Notebook with your peers for review."
   ]
  }
 ],
 "metadata": {
  "kernelspec": {
   "display_name": "Python 3.6",
   "language": "python",
   "name": "python3"
  },
  "language_info": {
   "codemirror_mode": {
    "name": "ipython",
    "version": 3
   },
   "file_extension": ".py",
   "mimetype": "text/x-python",
   "name": "python",
   "nbconvert_exporter": "python",
   "pygments_lexer": "ipython3",
   "version": "3.6.9"
  }
 },
 "nbformat": 4,
 "nbformat_minor": 1
}
